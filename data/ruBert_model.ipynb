{
  "nbformat": 4,
  "nbformat_minor": 0,
  "metadata": {
    "colab": {
      "provenance": []
    },
    "kernelspec": {
      "name": "python3",
      "display_name": "Python 3"
    },
    "language_info": {
      "name": "python"
    }
  },
  "cells": [
    {
      "cell_type": "code",
      "execution_count": null,
      "metadata": {
        "id": "2_enPeakMaU6"
      },
      "outputs": [],
      "source": [
        "import pandas as pd\n",
        "import numpy as np\n",
        "import torch\n",
        "from torch.nn.functional import cosine_similarity\n",
        "from transformers import AutoTokenizer, AutoModel\n",
        "\n",
        "data['annotation'] = data['annotation'].astype(str)\n",
        "device = torch.device(\"cuda\" if torch.cuda.is_available() else \"cpu\")"
      ]
    },
    {
      "cell_type": "code",
      "source": [
        "tokenizer = AutoTokenizer.from_pretrained(\"cointegrated/rubert-tiny2\")\n",
        "model = AutoModel.from_pretrained(\"cointegrated/rubert-tiny2\")\n",
        "model.to(device);"
      ],
      "metadata": {
        "id": "s4XZiY_EMhY5"
      },
      "execution_count": null,
      "outputs": []
    },
    {
      "cell_type": "code",
      "source": [
        "def embed_text(text):\n",
        "    encoded_input = tokenizer(text, padding=True, truncation=True, max_length=128, return_tensors='pt')\n",
        "    with torch.no_grad():\n",
        "        model_output = model(**encoded_input.to(device))\n",
        "        embeddings = model_output.last_hidden_state[:,0,:].cpu().numpy()\n",
        "    return np.mean(embeddings, axis=0)\n",
        "\n",
        "\n",
        "filtered_data['vector'] = filtered_data['annotation'].apply(embed_text)"
      ],
      "metadata": {
        "id": "Fx3Z9JEhMha8"
      },
      "execution_count": null,
      "outputs": []
    },
    {
      "cell_type": "code",
      "source": [
        "all_embeddings = np.array(filtered_data['vector'].tolist())"
      ],
      "metadata": {
        "id": "cuWyQVjsMhdV"
      },
      "execution_count": null,
      "outputs": []
    },
    {
      "cell_type": "code",
      "source": [
        "def search_books(user_query, n_results=5):\n",
        "    query_embedding = embed_text(user_query)\n",
        "    query_embedding = torch.tensor(query_embedding).to(device)\n",
        "\n",
        "    def calculate_similarity(x):\n",
        "        x_tensor = torch.tensor(x).to(device)\n",
        "        x_tensor = x_tensor / torch.norm(x_tensor)\n",
        "        query_tensor_norm = query_embedding / torch.norm(query_embedding)\n",
        "        return cosine_similarity(query_tensor_norm.reshape(1, -1), x_tensor.reshape(1, -1)).item()\n",
        "\n",
        "    similarity_scores = filtered_data['vector'].apply(calculate_similarity)\n",
        "    top_books_indices = np.argsort(similarity_scores)[::-1][:n_results]\n",
        "    top_books = filtered_data.iloc[top_books_indices]\n",
        "\n",
        "    for i, (_, row) in enumerate(top_books.iterrows()):\n",
        "        print(f\"Результат {i+1}:\")\n",
        "        print(f\"Описание книги: {row['annotation']}\")\n",
        "        print(f\"Автор: {row['author']}\")\n",
        "        print(f\"Название: {row['title']}\")\n",
        "        print(f\"Оценка сходства (косинусное сходство): {similarity_scores[row.name]}\")\n",
        "        print()\n",
        "\n",
        "user_query = \"книги о военной жизни\"\n",
        "search_books(user_query, n_results=5)"
      ],
      "metadata": {
        "id": "tnCHDyV4Moan"
      },
      "execution_count": null,
      "outputs": []
    },
    {
      "cell_type": "code",
      "source": [
        "np.savez('book_embeddings.npz', embeddings=all_embeddings)"
      ],
      "metadata": {
        "id": "f73ObhSgMocr"
      },
      "execution_count": null,
      "outputs": []
    },
    {
      "cell_type": "code",
      "source": [],
      "metadata": {
        "id": "1Hv56zVxMhfX"
      },
      "execution_count": null,
      "outputs": []
    }
  ]
}